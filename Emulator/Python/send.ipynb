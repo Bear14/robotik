{
 "cells": [
  {
   "cell_type": "code",
   "execution_count": 9,
   "metadata": {},
   "outputs": [
    {
     "name": "stdout",
     "output_type": "stream",
     "text": [
      "UDP target IP: 127.0.0.1\n",
      "UDP target port: 5005\n",
      "message: Hello, World!\n"
     ]
    },
    {
     "data": {
      "text/plain": [
       "13"
      ]
     },
     "execution_count": 9,
     "metadata": {},
     "output_type": "execute_result"
    }
   ],
   "source": [
    "import socket\n",
    "\n",
    "UDP_IP = \"127.0.0.1\"\n",
    "UDP_PORT = 5005\n",
    "MESSAGE = \"Hello, World!\"\n",
    "mail = MESSAGE.encode(\"UTF-8\")\n",
    "\n",
    "print(\"UDP target IP:\", UDP_IP)\n",
    "print(\"UDP target port:\", UDP_PORT)\n",
    "print(\"message:\", MESSAGE)\n",
    "sock = socket.socket(socket.AF_INET, # Internet\n",
    "                       socket.SOCK_DGRAM) # UDP\n",
    "sock.sendto(mail, (UDP_IP, UDP_PORT))"
   ]
  },
  {
   "cell_type": "code",
   "execution_count": null,
   "metadata": {},
   "outputs": [],
   "source": []
  }
 ],
 "metadata": {
  "kernelspec": {
   "display_name": "Python 3",
   "language": "python",
   "name": "python3"
  },
  "language_info": {
   "codemirror_mode": {
    "name": "ipython",
    "version": 3
   },
   "file_extension": ".py",
   "mimetype": "text/x-python",
   "name": "python",
   "nbconvert_exporter": "python",
   "pygments_lexer": "ipython3",
   "version": "3.6.4"
  }
 },
 "nbformat": 4,
 "nbformat_minor": 2
}

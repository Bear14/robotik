{
 "cells": [
  {
   "cell_type": "code",
   "execution_count": 1,
   "metadata": {},
   "outputs": [],
   "source": [
    "from graphics import *\n",
    "import socket\n",
    "import time"
   ]
  },
  {
   "cell_type": "code",
   "execution_count": 2,
   "metadata": {},
   "outputs": [],
   "source": [
    "UDP_IP = \"127.0.0.1\"\n",
    "UDP_PORT = 5005\n",
    "\n",
    "RUNTIME = 20 #In seconds\n",
    "\n",
    "SCALE = 5\n",
    "BLACK = color_rgb(0,0,0)\n",
    "DARKGREY = color_rgb(0,100,0)\n",
    "LIGHTGREY = color_rgb(200,0,0)\n",
    "WHITE = color_rgb(255,255,255)"
   ]
  },
  {
   "cell_type": "code",
   "execution_count": 3,
   "metadata": {},
   "outputs": [],
   "source": [
    "def getColor(h,px):\n",
    "    \n",
    "    \n",
    "    lala = str(bin(h))\n",
    "    #print(lala)\n",
    "    \n",
    "\n",
    "    \n",
    "    \n",
    "    \n",
    "    nex = lala[2:]\n",
    "    \n",
    "    #nStr = \"\"\n",
    "    \n",
    "    if(len(nex) < 8):\n",
    "        #nex = (8 - len(nex)) * \"0\" + nex\n",
    "        #print((8 -len(nex)) * \"0\" + nex)\n",
    "        nex = (8 - len(nex)) * \"0\" + nex\n",
    "        pass\n",
    "        \n",
    "    #print(nex)\n",
    "    #print(nex)\n",
    "    ne = nex[px*2:px*2+2]\n",
    "    #print(\"wad\",ne)\n",
    "    \n",
    "    if(ne == \"00\"):\n",
    "        return WHITE\n",
    "    elif(ne == \"01\"):\n",
    "        return LIGHTGREY\n",
    "    elif(ne == \"10\"):\n",
    "        return DARKGREY\n",
    "    elif(ne == \"11\"):\n",
    "        return BLACK\n",
    "    pass"
   ]
  },
  {
   "cell_type": "code",
   "execution_count": 8,
   "metadata": {},
   "outputs": [],
   "source": [
    "def page(x,y,h,window):\n",
    "    y = y*4 * SCALE\n",
    "    x = x * SCALE\n",
    "    px_1 = Rectangle(Point(x,y),Point(x + SCALE-1,y + SCALE-1))\n",
    "    px_1.setFill(getColor(h,3))\n",
    "    px_1.setOutline(getColor(h,3))\n",
    "    px_1.draw(window)\n",
    "    \n",
    "    px_2 = Rectangle(Point(x,y+1*SCALE),Point(x + SCALE-1,y+1*SCALE + SCALE-1))\n",
    "    px_2.setFill(getColor(h,2))\n",
    "    px_2.setOutline(getColor(h,2))\n",
    "    px_2.draw(window)\n",
    "    \n",
    "    px_3 = Rectangle(Point(x,y+2*SCALE),Point(x + SCALE-1,y+2*SCALE +SCALE-1))\n",
    "    px_3.setFill(getColor(h,1))\n",
    "    px_3.setOutline(getColor(h,1))\n",
    "    px_3.draw(window)\n",
    "    \n",
    "    px_4 = Rectangle(Point(x,y+3*SCALE),Point(x +SCALE-1,y+3*SCALE + SCALE-1))\n",
    "    px_4.setFill(getColor(h,0))\n",
    "    px_4.setOutline(getColor(h,0))\n",
    "    px_4.draw(window)\n",
    "    pass\n",
    "        "
   ]
  },
  {
   "cell_type": "code",
   "execution_count": 5,
   "metadata": {},
   "outputs": [],
   "source": [
    "sock = socket.socket(socket.AF_INET, # Internet\n",
    "                          socket.SOCK_DGRAM) # UDP\n",
    "sock.bind((UDP_IP, UDP_PORT))"
   ]
  },
  {
   "cell_type": "code",
   "execution_count": 9,
   "metadata": {},
   "outputs": [],
   "source": [
    "win = GraphWin(width = 160 * SCALE, height = 104 * SCALE) # create a window\n",
    "#win.setCoords(0, 0, 10, 10) # set the coordinates of the window; bottom left is (0, 0) and top right is (10, 10"
   ]
  },
  {
   "cell_type": "code",
   "execution_count": 10,
   "metadata": {},
   "outputs": [],
   "source": [
    "count = 0\n",
    "\n",
    "win.setBackground(WHITE)\n",
    "\n",
    "endTime = time.time() + RUNTIME\n",
    "\n",
    "\n",
    "while(time.time() < endTime):\n",
    "    count+=1\n",
    "    data, addr = sock.recvfrom(1024) # buffer size is 1024 bytes\n",
    "    \n",
    "    out = data.decode().split(\",\")\n",
    "    page(int(out[0]),int(out[1]),int(out[2]),win)\n",
    "    \n",
    "    #print(\"received message:\", data)#.decode(\"Utf-8\"))\n",
    "    pass\n",
    "win.close()"
   ]
  },
  {
   "cell_type": "code",
   "execution_count": 4,
   "metadata": {},
   "outputs": [
    {
     "name": "stdout",
     "output_type": "stream",
     "text": [
      "Hallo\n"
     ]
    }
   ],
   "source": [
    "print(\"Hallo\")"
   ]
  },
  {
   "cell_type": "code",
   "execution_count": null,
   "metadata": {},
   "outputs": [],
   "source": []
  }
 ],
 "metadata": {
  "kernelspec": {
   "display_name": "Python 3",
   "language": "python",
   "name": "python3"
  },
  "language_info": {
   "codemirror_mode": {
    "name": "ipython",
    "version": 3
   },
   "file_extension": ".py",
   "mimetype": "text/x-python",
   "name": "python",
   "nbconvert_exporter": "python",
   "pygments_lexer": "ipython3",
   "version": "3.6.4"
  }
 },
 "nbformat": 4,
 "nbformat_minor": 2
}

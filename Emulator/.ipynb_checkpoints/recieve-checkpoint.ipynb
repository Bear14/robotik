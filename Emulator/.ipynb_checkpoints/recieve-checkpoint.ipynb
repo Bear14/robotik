{
 "cells": [
  {
   "cell_type": "code",
   "execution_count": null,
   "metadata": {},
   "outputs": [],
   "source": [
    "import socket\n",
    "\n",
    "UDP_IP = \"127.0.0.1\"\n",
    "UDP_PORT = 5005\n",
    " \n",
    "sock = socket.socket(socket.AF_INET, # Internet\n",
    "                          socket.SOCK_DGRAM) # UDP\n",
    "sock.bind((UDP_IP, UDP_PORT))\n",
    "\n",
    "while True:\n",
    "    data, addr = sock.recvfrom(1024) # buffer size is 1024 bytes\n",
    "    print(\"received message:\", data)#.decode(\"Utf-8\"))"
   ]
  },
  {
   "cell_type": "code",
   "execution_count": null,
   "metadata": {},
   "outputs": [],
   "source": []
  }
 ],
 "metadata": {
  "kernelspec": {
   "display_name": "Python 3",
   "language": "python",
   "name": "python3"
  },
  "language_info": {
   "codemirror_mode": {
    "name": "ipython",
    "version": 3
   },
   "file_extension": ".py",
   "mimetype": "text/x-python",
   "name": "python",
   "nbconvert_exporter": "python",
   "pygments_lexer": "ipython3",
   "version": "3.6.4"
  }
 },
 "nbformat": 4,
 "nbformat_minor": 2
}
